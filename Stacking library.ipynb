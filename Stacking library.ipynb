{
 "cells": [
  {
   "cell_type": "code",
   "execution_count": 1,
   "metadata": {
    "ExecuteTime": {
     "end_time": "2018-01-27T17:28:01.166841",
     "start_time": "2018-01-27T17:28:01.008287"
    },
    "collapsed": false,
    "deletable": true,
    "editable": true,
    "run_control": {
     "frozen": false,
     "read_only": false
    }
   },
   "outputs": [],
   "source": [
    "import numpy as np"
   ]
  },
  {
   "cell_type": "code",
   "execution_count": 2,
   "metadata": {
    "ExecuteTime": {
     "end_time": "2018-01-27T17:28:01.374650",
     "start_time": "2018-01-27T17:28:01.371831"
    },
    "collapsed": false,
    "deletable": true,
    "editable": true,
    "run_control": {
     "frozen": false,
     "read_only": false
    }
   },
   "outputs": [],
   "source": [
    "import copy"
   ]
  },
  {
   "cell_type": "code",
   "execution_count": 3,
   "metadata": {
    "ExecuteTime": {
     "end_time": "2018-01-27T17:28:01.887636",
     "start_time": "2018-01-27T17:28:01.652789"
    },
    "collapsed": false,
    "deletable": true,
    "editable": true,
    "run_control": {
     "frozen": false,
     "read_only": false
    }
   },
   "outputs": [],
   "source": [
    "from sklearn.model_selection import cross_val_predict"
   ]
  },
  {
   "cell_type": "code",
   "execution_count": 4,
   "metadata": {
    "ExecuteTime": {
     "end_time": "2018-01-27T17:28:01.940103",
     "start_time": "2018-01-27T17:28:01.936809"
    },
    "collapsed": true
   },
   "outputs": [],
   "source": [
    "from sklearn.base import BaseEstimator"
   ]
  },
  {
   "cell_type": "code",
   "execution_count": 5,
   "metadata": {
    "ExecuteTime": {
     "end_time": "2018-01-27T17:28:02.278795",
     "start_time": "2018-01-27T17:28:02.275616"
    },
    "collapsed": false,
    "deletable": true,
    "editable": true,
    "run_control": {
     "frozen": false,
     "read_only": false
    }
   },
   "outputs": [],
   "source": [
    "from sklearn.model_selection import StratifiedKFold"
   ]
  },
  {
   "cell_type": "code",
   "execution_count": 6,
   "metadata": {
    "ExecuteTime": {
     "end_time": "2018-01-27T17:28:02.623157",
     "start_time": "2018-01-27T17:28:02.620781"
    },
    "collapsed": true
   },
   "outputs": [],
   "source": [
    "from sklearn.base import ClassifierMixin, RegressorMixin"
   ]
  },
  {
   "cell_type": "code",
   "execution_count": 7,
   "metadata": {
    "ExecuteTime": {
     "end_time": "2018-01-27T17:28:03.171472",
     "start_time": "2018-01-27T17:28:03.057683"
    },
    "collapsed": false,
    "deletable": true,
    "editable": true,
    "run_control": {
     "frozen": false,
     "read_only": false
    }
   },
   "outputs": [],
   "source": [
    "class StackingClassifier(BaseEstimator, ClassifierMixin):\n",
    "    '''Class for stacking scikit-learn classifiers'''\n",
    "    \n",
    "    def __init__(self, models, est_methods):\n",
    "        '''initialization:\n",
    "           models --- list of lists, contains classifiers;\n",
    "           est_methods --- list of lists, contains string names of prediction methods for each classifier,\n",
    "                           do not use simple predict'''\n",
    "        \n",
    "        self._models = copy.deepcopy(models)\n",
    "        self._est_methods = copy.deepcopy(est_methods)\n",
    "        \n",
    "        self._sizes = []\n",
    "        for models_layer in self._models:\n",
    "            self._sizes.append(len(models_layer))\n",
    "        \n",
    "    def fit(self, X, y=None, cv=5, err=0.01, random_state=np.array([None]), n_jobs=1):\n",
    "        '''fit classifiers in the stack:\n",
    "           X --- training data (numpy ndarray);\n",
    "           y --- training target variable (numpy array);\n",
    "           cv --- number of folds in StratifiedKFold;\n",
    "           err --- scale in regularization noise;\n",
    "           random_state --- array of seeds for pseudo random numbers generator;\n",
    "           n_jobs --- number of jobs in training'''\n",
    "        \n",
    "        if not random_state[0] is None:\n",
    "            np.random.seed(random_state[0])\n",
    "        self._classes_num = np.unique(y).shape[0]\n",
    "        self._features_per_layer = []\n",
    "        self._features_per_layer.append(X.copy())\n",
    "        \n",
    "        for size in self._sizes:\n",
    "            self._features_per_layer.append(np.zeros((X.shape[0], self._classes_num * size)))\n",
    "        \n",
    "        self._n = len(random_state)\n",
    "        for layer_num, (models_layer, est_methods_layer) in enumerate(zip(self._models, self._est_methods)):\n",
    "            for seed in random_state:\n",
    "                skf = StratifiedKFold(n_splits=cv, shuffle=True, random_state=seed)\n",
    "                for idx, (model, method) in enumerate(zip(models_layer, est_methods_layer)):\n",
    "                    self._features_per_layer[layer_num + 1][:,\\\n",
    "                                             idx * self._classes_num: (idx + 1) * self._classes_num] +=\\\n",
    "                        cross_val_predict(estimator=model,\\\n",
    "                                          X=self._features_per_layer[layer_num],\\\n",
    "                                          y=y, cv=skf, n_jobs=n_jobs, method=method)    \n",
    "            self._features_per_layer[layer_num + 1] /= self._n\n",
    "            self._features_per_layer[layer_num + 1] +=\\\n",
    "            err * np.random.randn(*self._features_per_layer[layer_num + 1].shape)\n",
    "            for model in models_layer:\n",
    "                model.fit(X=self._features_per_layer[layer_num], y=y)\n",
    "        del self._features_per_layer\n",
    "        return self\n",
    "    \n",
    "    def predict_proba(self, X, y=None):\n",
    "        '''Stacking prediction:\n",
    "           X --- test data (numpy ndarray);\n",
    "           y --- for compatibility, always ignored'''\n",
    "        \n",
    "        self._test_features_per_layer = []\n",
    "        self._test_features_per_layer.append(X.copy())\n",
    "        for size in self._sizes:\n",
    "            self._test_features_per_layer.append(np.zeros((X.shape[0], self._classes_num * size)))\n",
    "        for layer_num, (models_layer, est_methods_layer) in enumerate(zip(self._models, self._est_methods)):\n",
    "            for idx, (model, method) in enumerate(zip(models_layer, est_methods_layer)):\n",
    "                if method == 'decision_function':\n",
    "                    self._test_features_per_layer[layer_num + 1][:,\\\n",
    "                                             idx * self._classes_num: (idx + 1) * self._classes_num] +=\\\n",
    "                        model.decision_function(self._test_features_per_layer[layer_num])\n",
    "                elif method == 'predict_proba':\n",
    "                    self._test_features_per_layer[layer_num + 1][:,\\\n",
    "                                             idx * self._classes_num: (idx + 1) * self._classes_num] +=\\\n",
    "                        model.predict_proba(self._test_features_per_layer[layer_num])\n",
    "                elif method == 'predict_log_proba':\n",
    "                    self._test_features_per_layer[layer_num + 1][:,\\\n",
    "                                             idx * self._classes_num: (idx + 1) * self._classes_num] +=\\\n",
    "                        model.predict_log_proba(self._test_features_per_layer[layer_num])\n",
    "                else:\n",
    "                    pass\n",
    "        answer = self._test_features_per_layer[-1].copy()\n",
    "        del self._test_features_per_layer\n",
    "        return answer\n",
    "    \n",
    "    def get_models(self):\n",
    "        '''get list of lists of models'''\n",
    "        \n",
    "        return copy.deepcopy(self._models)\n",
    "    \n",
    "    def get_methods(self):\n",
    "        '''get list of lists of estimation methods'''\n",
    "        \n",
    "        return copy.deepcopy(self._est_methods)\n",
    "    \n",
    "    def get_shape(self):\n",
    "        '''get shape of the stack'''\n",
    "        \n",
    "        return copy.deepcopy(self._sizes)\n",
    "    \n",
    "    def get_classes_num(self):\n",
    "        '''get number of estimated classes'''\n",
    "        \n",
    "        return self._classes_num\n",
    "    \n",
    "    def get_num_of_splits(self):\n",
    "        '''get number of splits in averaging'''\n",
    "        \n",
    "        return self._n"
   ]
  },
  {
   "cell_type": "code",
   "execution_count": 8,
   "metadata": {
    "ExecuteTime": {
     "end_time": "2018-01-27T17:28:03.710309",
     "start_time": "2018-01-27T17:28:03.523467"
    },
    "collapsed": false,
    "deletable": true,
    "editable": true,
    "run_control": {
     "frozen": false,
     "read_only": false
    }
   },
   "outputs": [],
   "source": [
    "class StackingRegressor(BaseEstimator, RegressorMixin):\n",
    "    '''Class for stacking scikit-learn regressor'''\n",
    "    \n",
    "    def __init__(self, models):\n",
    "        '''initialization:\n",
    "           models --- list of lists, contains regressors'''\n",
    "        \n",
    "        self._models = copy.deepcopy(models)\n",
    "        \n",
    "        self._sizes = []\n",
    "        for models_layer in self._models:\n",
    "            self._sizes.append(len(models_layer))\n",
    "        \n",
    "    def fit(self, X, y=None, cv=5, err=0.01, random_state=np.array([None]), n_jobs=1, mode=0):\n",
    "        '''fit regressors in the stack:\n",
    "           X --- training data (numpy ndarray);\n",
    "           y --- training target variable (numpy ndarray (always in mode == 1));\n",
    "           cv --- number of folds in StratifiedKFold;\n",
    "           err --- scale in regularization noise;\n",
    "           random_state --- array of seeds for pseudo random numbers generator;\n",
    "           n_jobs --- number of jobs in training;\n",
    "           mode --- stacking mode: 0 --- classical stacking, 1 --- own target for each model'''\n",
    "        \n",
    "        if not random_state[0] is None:\n",
    "            np.random.seed(random_state[0])\n",
    "        self._features_per_layer = []\n",
    "        self._features_per_layer.append(X.copy())\n",
    "        \n",
    "        if mode == 0:\n",
    "            if len(y.shape) == 1:\n",
    "                self._dim = 1\n",
    "            else:\n",
    "                self._dim = y.shape[1]\n",
    "            \n",
    "            for size in self._sizes:\n",
    "                self._features_per_layer.append(np.zeros((X.shape[0], self._dim * size)))\n",
    "            \n",
    "            self._n = len(random_state)\n",
    "            for layer_num, models_layer in enumerate(self._models):\n",
    "                for seed in random_state:\n",
    "                    skf = StratifiedKFold(n_splits=cv, shuffle=True, random_state=seed)\n",
    "                    for idx, model in enumerate(models_layer):\n",
    "                        if self._dim > 1:\n",
    "                            self._features_per_layer[layer_num + 1][:,\\\n",
    "                                                     idx * self._dim: (idx + 1) * self._dim] +=\\\n",
    "                                cross_val_predict(estimator=model,\\\n",
    "                                                  X=self._features_per_layer[layer_num],\\\n",
    "                                                  y=y, cv=skf, n_jobs=n_jobs, method='predict')\n",
    "                        else:\n",
    "                            self._features_per_layer[layer_num + 1][:,\\\n",
    "                                                     idx * self._dim: (idx + 1) * self._dim] +=\\\n",
    "                                cross_val_predict(estimator=model,\\\n",
    "                                                  X=self._features_per_layer[layer_num],\\\n",
    "                                                  y=y, cv=skf, n_jobs=n_jobs, method='predict')[:, np.newaxis]\n",
    "                self._features_per_layer[layer_num + 1] /= self._n\n",
    "                self._features_per_layer[layer_num + 1] +=\\\n",
    "                err * np.random.randn(*self._features_per_layer[layer_num + 1].shape)\n",
    "                for model in models_layer:\n",
    "                    model.fit(X=self._features_per_layer[layer_num], y=y)\n",
    "        else:\n",
    "            if len(y[0].shape) == 1:\n",
    "                self._dim = 1\n",
    "            else:\n",
    "                self._dim = y[0].shape[1] // self._sizes[0]\n",
    "            \n",
    "            for size in self._sizes:\n",
    "                self._features_per_layer.append(np.zeros((X.shape[0], self._dim * size)))\n",
    "            \n",
    "            self._n = len(random_state)\n",
    "            for layer_num, models_layer in enumerate(self._models):\n",
    "                for seed in random_state:\n",
    "                    skf = StratifiedKFold(n_splits=cv, shuffle=True, random_state=seed)\n",
    "                    for idx, model in enumerate(models_layer):\n",
    "                        if self._dim > 1:\n",
    "                            self._features_per_layer[layer_num + 1][:,\\\n",
    "                                                     idx * self._dim: (idx + 1) * self._dim] +=\\\n",
    "                                cross_val_predict(estimator=model,\\\n",
    "                                                  X=self._features_per_layer[layer_num],\\\n",
    "                                                  y=y[layer_num][:, idx * self._dim: (idx + 1) * self._dim],\\\n",
    "                                                  cv=skf, n_jobs=n_jobs, method='predict')\n",
    "                        else:\n",
    "                            self._features_per_layer[layer_num + 1][:,\\\n",
    "                                                     idx * self._dim: (idx + 1) * self._dim] +=\\\n",
    "                                cross_val_predict(estimator=model,\\\n",
    "                                                  X=self._features_per_layer[layer_num],\\\n",
    "                                                  y=y[layer_num][:,\\\n",
    "                                                                 idx * self._dim: (idx + 1) * self._dim].ravel(),\\\n",
    "                                                  cv=skf, n_jobs=n_jobs, method='predict')[:, np.newaxis]\n",
    "                self._features_per_layer[layer_num + 1] /= self._n\n",
    "                self._features_per_layer[layer_num + 1] +=\\\n",
    "                err * np.random.randn(*self._features_per_layer[layer_num + 1].shape)\n",
    "                for idx, model in enumerate(models_layer):\n",
    "                    if self._dim > 1:\n",
    "                        model.fit(X=self._features_per_layer[layer_num],\\\n",
    "                                  y=y[layer_num][:, idx * self._dim: (idx + 1) * self._dim])\n",
    "                    else:\n",
    "                        model.fit(X=self._features_per_layer[layer_num],\\\n",
    "                                  y=y[layer_num][:, idx * self._dim: (idx + 1) * self._dim].ravel())\n",
    "        del self._features_per_layer\n",
    "        return self\n",
    "    \n",
    "    def predict(self, X, y=None):\n",
    "        '''Stacking prediction:\n",
    "           X --- test data (numpy ndarray);\n",
    "           y --- for compatibility, always ignored'''\n",
    "        \n",
    "        self._test_features_per_layer = []\n",
    "        self._test_features_per_layer.append(X.copy())\n",
    "        for size in self._sizes:\n",
    "            self._test_features_per_layer.append(np.zeros((X.shape[0], self._dim * size)))\n",
    "        for layer_num, models_layer in enumerate(self._models):\n",
    "            for idx, model in enumerate(models_layer):\n",
    "                if self._dim > 1:\n",
    "                    self._test_features_per_layer[layer_num + 1][:,\\\n",
    "                                                  idx * self._dim: (idx + 1) * self._dim] +=\\\n",
    "                        model.predict(self._test_features_per_layer[layer_num])\n",
    "                else:\n",
    "                    self._test_features_per_layer[layer_num + 1][:,\\\n",
    "                                                  idx * self._dim: (idx + 1) * self._dim] +=\\\n",
    "                        model.predict(self._test_features_per_layer[layer_num])[:, np.newaxis]\n",
    "        answer = self._test_features_per_layer[-1].copy()\n",
    "        del self._test_features_per_layer\n",
    "        if self._dim == 1:\n",
    "            answer = answer.ravel()\n",
    "        return answer\n",
    "    \n",
    "    def get_models(self):\n",
    "        '''get list of lists of models'''\n",
    "        \n",
    "        return copy.deepcopy(self._models)\n",
    "    \n",
    "    def get_shape(self):\n",
    "        '''get shape of the stack'''\n",
    "        \n",
    "        return copy.deepcopy(self._sizes)\n",
    "    \n",
    "    def get_dimension(self):\n",
    "        '''get dimension of target variable'''\n",
    "        \n",
    "        return self._dim\n",
    "    \n",
    "    def get_num_of_splits(self):\n",
    "        '''get number of splits in averaging'''\n",
    "        \n",
    "        return self._n"
   ]
  },
  {
   "cell_type": "code",
   "execution_count": null,
   "metadata": {
    "collapsed": false,
    "deletable": true,
    "editable": true,
    "run_control": {
     "frozen": false,
     "read_only": false
    }
   },
   "outputs": [],
   "source": []
  }
 ],
 "metadata": {
  "kernelspec": {
   "display_name": "Python 3",
   "language": "python",
   "name": "python3"
  },
  "language_info": {
   "codemirror_mode": {
    "name": "ipython",
    "version": 3
   },
   "file_extension": ".py",
   "mimetype": "text/x-python",
   "name": "python",
   "nbconvert_exporter": "python",
   "pygments_lexer": "ipython3",
   "version": "3.5.2"
  }
 },
 "nbformat": 4,
 "nbformat_minor": 2
}
